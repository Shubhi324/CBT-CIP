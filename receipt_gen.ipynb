{
  "nbformat": 4,
  "nbformat_minor": 0,
  "metadata": {
    "colab": {
      "provenance": [],
      "authorship_tag": "ABX9TyM/KBVK2W0cIDKXRnrA/NTX",
      "include_colab_link": true
    },
    "kernelspec": {
      "name": "python3",
      "display_name": "Python 3"
    },
    "language_info": {
      "name": "python"
    }
  },
  "cells": [
    {
      "cell_type": "markdown",
      "metadata": {
        "id": "view-in-github",
        "colab_type": "text"
      },
      "source": [
        "<a href=\"https://colab.research.google.com/github/Shubhi324/CBT-CIP/blob/main/receipt_gen.ipynb\" target=\"_parent\"><img src=\"https://colab.research.google.com/assets/colab-badge.svg\" alt=\"Open In Colab\"/></a>"
      ]
    },
    {
      "cell_type": "code",
      "execution_count": 2,
      "metadata": {
        "colab": {
          "base_uri": "https://localhost:8080/"
        },
        "id": "P8yvOjYi4Een",
        "outputId": "cbffb18f-274d-4a06-9b07-a8aef783b984"
      },
      "outputs": [
        {
          "output_type": "stream",
          "name": "stdout",
          "text": [
            "Collecting reportlab\n",
            "  Downloading reportlab-4.2.5-py3-none-any.whl.metadata (1.5 kB)\n",
            "Requirement already satisfied: pillow>=9.0.0 in /usr/local/lib/python3.10/dist-packages (from reportlab) (10.4.0)\n",
            "Requirement already satisfied: chardet in /usr/local/lib/python3.10/dist-packages (from reportlab) (5.2.0)\n",
            "Downloading reportlab-4.2.5-py3-none-any.whl (1.9 MB)\n",
            "\u001b[2K   \u001b[90m━━━━━━━━━━━━━━━━━━━━━━━━━━━━━━━━━━━━━━━━\u001b[0m \u001b[32m1.9/1.9 MB\u001b[0m \u001b[31m16.6 MB/s\u001b[0m eta \u001b[36m0:00:00\u001b[0m\n",
            "\u001b[?25hInstalling collected packages: reportlab\n",
            "Successfully installed reportlab-4.2.5\n"
          ]
        }
      ],
      "source": [
        "pip install reportlab"
      ]
    },
    {
      "cell_type": "code",
      "source": [
        "from google.colab import files\n",
        "from reportlab.pdfgen import canvas\n",
        "from reportlab.lib.pagesizes import A4\n",
        "from reportlab.lib.units import mm\n",
        "from reportlab.lib.styles import getSampleStyleSheet\n",
        "from reportlab.platypus import SimpleDocTemplate, Table, Paragraph, TableStyle\n",
        "from reportlab.lib import colors\n",
        "\n",
        "# Define the data for the shop receipt\n",
        "data = [\n",
        "    [\"Date\", \"Item\", \"Quantity\", \"Price (Rs.)\"],\n",
        "    [\"03/10/2024\", \"Rice (5kg)\", \"1\", \"500.00/-\"],\n",
        "    [\"03/10/2024\", \"Wheat Flour (2kg)\", \"2\", \"300.00/-\"],\n",
        "    [\"03/10/2024\", \"Sugar (1kg)\", \"1\", \"50.00/-\"],\n",
        "    [\"Sub Total\", \"\", \"\", \"850.00/-\"],\n",
        "    [\"Discount\", \"\", \"\", \"-50.00/-\"],\n",
        "    [\"Total\", \"\", \"\", \"800.00/-\"]\n",
        "]\n",
        "\n",
        "# Print the receipt data on the console\n",
        "print(\"Receipt Data:\")\n",
        "for row in data:\n",
        "    print(row)\n",
        "\n",
        "# Create a PDF file\n",
        "pdf = SimpleDocTemplate(\"receipt.pdf\", pagesize=A4)\n",
        "\n",
        "# Define the styles for the PDF\n",
        "styles = getSampleStyleSheet()\n",
        "title_style = styles[\"Heading1\"]\n",
        "title_style.alignment = 1\n",
        "\n",
        "# Create the title of the receipt\n",
        "title = Paragraph(\"Local Shop Receipt\", title_style)\n",
        "\n",
        "# Create the table for the receipt\n",
        "table = Table(data, style=TableStyle([\n",
        "    (\"BOX\", (0, 0), (-1, -1), 1, colors.black),\n",
        "    (\"GRID\", (0, 0), (-1, -1), 1, colors.black),\n",
        "    (\"BACKGROUND\", (0, 0), (3, 0), colors.gray),\n",
        "    (\"TEXTCOLOR\", (0, 0), (-1, 0), colors.whitesmoke),\n",
        "    (\"ALIGN\", (0, 0), (-1, -1), \"CENTER\"),\n",
        "    (\"BACKGROUND\", (0, 1), (-1, -1), colors.beige)\n",
        "]))\n",
        "\n",
        "# Build the PDF\n",
        "pdf.build([title, table])\n",
        "\n",
        "print(\"PDF generated successfully. Downloading the receipt.pdf file...\")\n",
        "\n",
        "# Download the PDF file in Google Colab\n",
        "files.download('receipt.pdf')\n"
      ],
      "metadata": {
        "colab": {
          "base_uri": "https://localhost:8080/",
          "height": 173
        },
        "id": "yjdwymky686V",
        "outputId": "4391cb58-a7a0-4df8-8ddb-2cdaa6591e6a"
      },
      "execution_count": 3,
      "outputs": [
        {
          "output_type": "stream",
          "name": "stdout",
          "text": [
            "Receipt Data:\n",
            "['Date', 'Item', 'Quantity', 'Price (Rs.)']\n",
            "['03/10/2024', 'Rice (5kg)', '1', '500.00/-']\n",
            "['03/10/2024', 'Wheat Flour (2kg)', '2', '300.00/-']\n",
            "['03/10/2024', 'Sugar (1kg)', '1', '50.00/-']\n",
            "['Sub Total', '', '', '850.00/-']\n",
            "['Discount', '', '', '-50.00/-']\n",
            "['Total', '', '', '800.00/-']\n",
            "PDF generated successfully. Downloading the receipt.pdf file...\n"
          ]
        },
        {
          "output_type": "display_data",
          "data": {
            "text/plain": [
              "<IPython.core.display.Javascript object>"
            ],
            "application/javascript": [
              "\n",
              "    async function download(id, filename, size) {\n",
              "      if (!google.colab.kernel.accessAllowed) {\n",
              "        return;\n",
              "      }\n",
              "      const div = document.createElement('div');\n",
              "      const label = document.createElement('label');\n",
              "      label.textContent = `Downloading \"${filename}\": `;\n",
              "      div.appendChild(label);\n",
              "      const progress = document.createElement('progress');\n",
              "      progress.max = size;\n",
              "      div.appendChild(progress);\n",
              "      document.body.appendChild(div);\n",
              "\n",
              "      const buffers = [];\n",
              "      let downloaded = 0;\n",
              "\n",
              "      const channel = await google.colab.kernel.comms.open(id);\n",
              "      // Send a message to notify the kernel that we're ready.\n",
              "      channel.send({})\n",
              "\n",
              "      for await (const message of channel.messages) {\n",
              "        // Send a message to notify the kernel that we're ready.\n",
              "        channel.send({})\n",
              "        if (message.buffers) {\n",
              "          for (const buffer of message.buffers) {\n",
              "            buffers.push(buffer);\n",
              "            downloaded += buffer.byteLength;\n",
              "            progress.value = downloaded;\n",
              "          }\n",
              "        }\n",
              "      }\n",
              "      const blob = new Blob(buffers, {type: 'application/binary'});\n",
              "      const a = document.createElement('a');\n",
              "      a.href = window.URL.createObjectURL(blob);\n",
              "      a.download = filename;\n",
              "      div.appendChild(a);\n",
              "      a.click();\n",
              "      div.remove();\n",
              "    }\n",
              "  "
            ]
          },
          "metadata": {}
        },
        {
          "output_type": "display_data",
          "data": {
            "text/plain": [
              "<IPython.core.display.Javascript object>"
            ],
            "application/javascript": [
              "download(\"download_3fca3cc7-780c-4eee-9de4-d81011f09ebb\", \"receipt.pdf\", 2152)"
            ]
          },
          "metadata": {}
        }
      ]
    }
  ]
}