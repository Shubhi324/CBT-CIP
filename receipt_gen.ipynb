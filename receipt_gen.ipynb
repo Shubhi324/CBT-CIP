{
  "nbformat": 4,
  "nbformat_minor": 0,
  "metadata": {
    "colab": {
      "provenance": [],
      "authorship_tag": "ABX9TyN7VKESALFb8dOTSeh2btbG",
      "include_colab_link": true
    },
    "kernelspec": {
      "name": "python3",
      "display_name": "Python 3"
    },
    "language_info": {
      "name": "python"
    }
  },
  "cells": [
    {
      "cell_type": "markdown",
      "metadata": {
        "id": "view-in-github",
        "colab_type": "text"
      },
      "source": [
        "<a href=\"https://colab.research.google.com/github/Shubhi324/CBT-CIP/blob/main/receipt_gen.ipynb\" target=\"_parent\"><img src=\"https://colab.research.google.com/assets/colab-badge.svg\" alt=\"Open In Colab\"/></a>"
      ]
    },
    {
      "cell_type": "code",
      "execution_count": null,
      "metadata": {
        "colab": {
          "base_uri": "https://localhost:8080/"
        },
        "id": "P8yvOjYi4Een",
        "outputId": "a4f6cd42-7345-40a6-a460-7ffbbecbad3e"
      },
      "outputs": [
        {
          "output_type": "stream",
          "name": "stdout",
          "text": [
            "Collecting reportlab\n",
            "  Downloading reportlab-4.2.5-py3-none-any.whl.metadata (1.5 kB)\n",
            "Requirement already satisfied: pillow>=9.0.0 in /usr/local/lib/python3.10/dist-packages (from reportlab) (10.4.0)\n",
            "Requirement already satisfied: chardet in /usr/local/lib/python3.10/dist-packages (from reportlab) (5.2.0)\n",
            "Downloading reportlab-4.2.5-py3-none-any.whl (1.9 MB)\n",
            "\u001b[2K   \u001b[90m━━━━━━━━━━━━━━━━━━━━━━━━━━━━━━━━━━━━━━━━\u001b[0m \u001b[32m1.9/1.9 MB\u001b[0m \u001b[31m10.1 MB/s\u001b[0m eta \u001b[36m0:00:00\u001b[0m\n",
            "\u001b[?25hInstalling collected packages: reportlab\n",
            "Successfully installed reportlab-4.2.5\n"
          ]
        }
      ],
      "source": [
        "pip install reportlab"
      ]
    },
    {
      "cell_type": "code",
      "source": [
        "import reportlab\n",
        "from reportlab.pdfgen import canvas\n",
        "from reportlab.lib.pagesizes import A4\n",
        "from reportlab.lib.units import mm\n",
        "from reportlab.lib.styles import getSampleStyleSheet\n",
        "from reportlab.platypus import SimpleDocTemplate, Table, Paragraph, TableStyle\n",
        "from reportlab.lib import colors\n",
        "\n",
        "# Define the data for the shop receipt\n",
        "data = [\n",
        "    [\"Date\", \"Item\", \"Quantity\", \"Price (Rs.)\"],\n",
        "    [\"03/10/2024\", \"Rice (5kg)\", \"1\", \"500.00/-\"],\n",
        "    [\"03/10/2024\", \"Wheat Flour (2kg)\", \"2\", \"300.00/-\"],\n",
        "    [\"03/10/2024\", \"Sugar (1kg)\", \"1\", \"50.00/-\"],\n",
        "    [\"Sub Total\", \"\", \"\", \"850.00/-\"],\n",
        "    [\"Discount\", \"\", \"\", \"-50.00/-\"],\n",
        "    [\"Total\", \"\", \"\", \"800.00/-\"]\n",
        "]\n",
        "\n",
        "# Print the receipt data on the console\n",
        "print(\"Receipt Data:\")\n",
        "for row in data:\n",
        "    print(row)\n",
        "\n",
        "# Create a PDF file\n",
        "pdf = SimpleDocTemplate(\"shop_receipt.pdf\", pagesize=A4)\n",
        "\n",
        "# Define the styles for the PDF\n",
        "styles = getSampleStyleSheet()\n",
        "title_style = styles[\"Heading1\"]\n",
        "title_style.alignment = 1\n",
        "\n",
        "# Create the title of the receipt\n",
        "title = Paragraph(\"Local Shop Receipt\", title_style)\n",
        "\n",
        "# Create the table for the receipt\n",
        "table = Table(data, style=TableStyle([\n",
        "    (\"BOX\", (0, 0), (-1, -1), 1, colors.black),\n",
        "    (\"GRID\", (0, 0), (-1, -1), 1, colors.black),\n",
        "    (\"BACKGROUND\", (0, 0), (3, 0), colors.gray),\n",
        "    (\"TEXTCOLOR\", (0, 0), (-1, 0), colors.whitesmoke),\n",
        "    (\"ALIGN\", (0, 0), (-1, -1), \"CENTER\"),\n",
        "    (\"BACKGROUND\", (0, 1), (-1, -1), colors.beige)\n",
        "]))\n",
        "\n",
        "# Build the PDF\n",
        "pdf.build([title, table])\n",
        "\n",
        "print(\"PDF generated successfully. Please open the shop_receipt.pdf file to view the receipt.\")\n"
      ],
      "metadata": {
        "colab": {
          "base_uri": "https://localhost:8080/"
        },
        "id": "oDTotIse6fMV",
        "outputId": "d2b9cecd-54ef-4156-e817-4f1e0f30b33d"
      },
      "execution_count": null,
      "outputs": [
        {
          "output_type": "stream",
          "name": "stdout",
          "text": [
            "Receipt Data:\n",
            "['Date', 'Item', 'Quantity', 'Price (Rs.)']\n",
            "['03/10/2024', 'Rice (5kg)', '1', '500.00/-']\n",
            "['03/10/2024', 'Wheat Flour (2kg)', '2', '300.00/-']\n",
            "['03/10/2024', 'Sugar (1kg)', '1', '50.00/-']\n",
            "['Sub Total', '', '', '850.00/-']\n",
            "['Discount', '', '', '-50.00/-']\n",
            "['Total', '', '', '800.00/-']\n",
            "PDF generated successfully. Please open the shop_receipt.pdf file to view the receipt.\n"
          ]
        }
      ]
    },
    {
      "cell_type": "code",
      "source": [
        "from google.colab import files\n",
        "from reportlab.pdfgen import canvas\n",
        "from reportlab.lib.pagesizes import A4\n",
        "from reportlab.lib.units import mm\n",
        "from reportlab.lib.styles import getSampleStyleSheet\n",
        "from reportlab.platypus import SimpleDocTemplate, Table, Paragraph, TableStyle\n",
        "from reportlab.lib import colors\n",
        "\n",
        "# Define the data for the shop receipt\n",
        "data = [\n",
        "    [\"Date\", \"Item\", \"Quantity\", \"Price (Rs.)\"],\n",
        "    [\"03/10/2024\", \"Rice (5kg)\", \"1\", \"500.00/-\"],\n",
        "    [\"03/10/2024\", \"Wheat Flour (2kg)\", \"2\", \"300.00/-\"],\n",
        "    [\"03/10/2024\", \"Sugar (1kg)\", \"1\", \"50.00/-\"],\n",
        "    [\"Sub Total\", \"\", \"\", \"850.00/-\"],\n",
        "    [\"Discount\", \"\", \"\", \"-50.00/-\"],\n",
        "    [\"Total\", \"\", \"\", \"800.00/-\"]\n",
        "]\n",
        "\n",
        "# Print the receipt data on the console\n",
        "print(\"Receipt Data:\")\n",
        "for row in data:\n",
        "    print(row)\n",
        "\n",
        "# Create a PDF file\n",
        "pdf = SimpleDocTemplate(\"receipt.pdf\", pagesize=A4)\n",
        "\n",
        "# Define the styles for the PDF\n",
        "styles = getSampleStyleSheet()\n",
        "title_style = styles[\"Heading1\"]\n",
        "title_style.alignment = 1\n",
        "\n",
        "# Create the title of the receipt\n",
        "title = Paragraph(\"Local Shop Receipt\", title_style)\n",
        "\n",
        "# Create the table for the receipt\n",
        "table = Table(data, style=TableStyle([\n",
        "    (\"BOX\", (0, 0), (-1, -1), 1, colors.black),\n",
        "    (\"GRID\", (0, 0), (-1, -1), 1, colors.black),\n",
        "    (\"BACKGROUND\", (0, 0), (3, 0), colors.gray),\n",
        "    (\"TEXTCOLOR\", (0, 0), (-1, 0), colors.whitesmoke),\n",
        "    (\"ALIGN\", (0, 0), (-1, -1), \"CENTER\"),\n",
        "    (\"BACKGROUND\", (0, 1), (-1, -1), colors.beige)\n",
        "]))\n",
        "\n",
        "# Build the PDF\n",
        "pdf.build([title, table])\n",
        "\n",
        "print(\"PDF generated successfully. Downloading the receipt.pdf file...\")\n",
        "\n",
        "# Download the PDF file in Google Colab\n",
        "files.download('receipt.pdf')\n"
      ],
      "metadata": {
        "colab": {
          "base_uri": "https://localhost:8080/",
          "height": 173
        },
        "id": "yjdwymky686V",
        "outputId": "4a84a415-efe1-4840-d968-af0ac099eb5b"
      },
      "execution_count": null,
      "outputs": [
        {
          "output_type": "stream",
          "name": "stdout",
          "text": [
            "Receipt Data:\n",
            "['Date', 'Item', 'Quantity', 'Price (Rs.)']\n",
            "['03/10/2024', 'Rice (5kg)', '1', '500.00/-']\n",
            "['03/10/2024', 'Wheat Flour (2kg)', '2', '300.00/-']\n",
            "['03/10/2024', 'Sugar (1kg)', '1', '50.00/-']\n",
            "['Sub Total', '', '', '850.00/-']\n",
            "['Discount', '', '', '-50.00/-']\n",
            "['Total', '', '', '800.00/-']\n",
            "PDF generated successfully. Downloading the receipt.pdf file...\n"
          ]
        },
        {
          "output_type": "display_data",
          "data": {
            "text/plain": [
              "<IPython.core.display.Javascript object>"
            ],
            "application/javascript": [
              "\n",
              "    async function download(id, filename, size) {\n",
              "      if (!google.colab.kernel.accessAllowed) {\n",
              "        return;\n",
              "      }\n",
              "      const div = document.createElement('div');\n",
              "      const label = document.createElement('label');\n",
              "      label.textContent = `Downloading \"${filename}\": `;\n",
              "      div.appendChild(label);\n",
              "      const progress = document.createElement('progress');\n",
              "      progress.max = size;\n",
              "      div.appendChild(progress);\n",
              "      document.body.appendChild(div);\n",
              "\n",
              "      const buffers = [];\n",
              "      let downloaded = 0;\n",
              "\n",
              "      const channel = await google.colab.kernel.comms.open(id);\n",
              "      // Send a message to notify the kernel that we're ready.\n",
              "      channel.send({})\n",
              "\n",
              "      for await (const message of channel.messages) {\n",
              "        // Send a message to notify the kernel that we're ready.\n",
              "        channel.send({})\n",
              "        if (message.buffers) {\n",
              "          for (const buffer of message.buffers) {\n",
              "            buffers.push(buffer);\n",
              "            downloaded += buffer.byteLength;\n",
              "            progress.value = downloaded;\n",
              "          }\n",
              "        }\n",
              "      }\n",
              "      const blob = new Blob(buffers, {type: 'application/binary'});\n",
              "      const a = document.createElement('a');\n",
              "      a.href = window.URL.createObjectURL(blob);\n",
              "      a.download = filename;\n",
              "      div.appendChild(a);\n",
              "      a.click();\n",
              "      div.remove();\n",
              "    }\n",
              "  "
            ]
          },
          "metadata": {}
        },
        {
          "output_type": "display_data",
          "data": {
            "text/plain": [
              "<IPython.core.display.Javascript object>"
            ],
            "application/javascript": [
              "download(\"download_f86bca97-153e-4d3a-8c20-31c032682e5c\", \"receipt.pdf\", 2152)"
            ]
          },
          "metadata": {}
        }
      ]
    },
    {
      "cell_type": "code",
      "source": [
        "!git clone https://github.com/Shubhi324/CBT-CIP.git"
      ],
      "metadata": {
        "colab": {
          "base_uri": "https://localhost:8080/"
        },
        "id": "KDOR7WdFBAyQ",
        "outputId": "9aa957a7-18f8-4223-8c61-5007847975ea"
      },
      "execution_count": 21,
      "outputs": [
        {
          "output_type": "stream",
          "name": "stdout",
          "text": [
            "Cloning into 'CBT-CIP'...\n",
            "remote: Enumerating objects: 6, done.\u001b[K\n",
            "remote: Counting objects: 100% (6/6), done.\u001b[K\n",
            "remote: Compressing objects: 100% (3/3), done.\u001b[K\n",
            "remote: Total 6 (delta 0), reused 0 (delta 0), pack-reused 0 (from 0)\u001b[K\n",
            "Receiving objects: 100% (6/6), done.\n"
          ]
        }
      ]
    }
  ]
}